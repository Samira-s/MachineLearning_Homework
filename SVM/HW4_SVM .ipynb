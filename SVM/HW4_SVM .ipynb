{
  "nbformat": 4,
  "nbformat_minor": 0,
  "metadata": {
    "colab": {
      "provenance": []
    },
    "kernelspec": {
      "name": "python3",
      "display_name": "Python 3"
    },
    "language_info": {
      "name": "python"
    }
  },
  "cells": [
    {
      "cell_type": "markdown",
      "source": [
        "# SVM on Anuran\n"
      ],
      "metadata": {
        "id": "9TVbafmXIaf5"
      }
    },
    {
      "cell_type": "markdown",
      "source": [
        "## Import packages"
      ],
      "metadata": {
        "id": "5XTbeM4Jo6yn"
      }
    },
    {
      "cell_type": "code",
      "execution_count": 1,
      "metadata": {
        "id": "b3j9WCqAH_ih"
      },
      "outputs": [],
      "source": [
        "import csv\n",
        "import numpy as np\n",
        "import pandas as pd\n",
        "import random\n",
        "\n",
        "from sklearn.model_selection import train_test_split\n",
        "from sklearn.preprocessing import StandardScaler\n",
        "\n",
        "import seaborn as sns\n",
        "import matplotlib\n",
        "import matplotlib.pyplot as plt\n",
        "\n",
        "from sklearn.svm import SVC\n",
        "from sklearn.metrics import accuracy_score\n",
        "from sklearn.metrics import confusion_matrix\n",
        "from sklearn.model_selection import cross_val_score\n"
      ]
    },
    {
      "cell_type": "markdown",
      "source": [
        "## Load dataset"
      ],
      "metadata": {
        "id": "FwCihTOMpVWH"
      }
    },
    {
      "cell_type": "code",
      "source": [
        "df_train = pd.read_csv(\"Frogs_MFCCs.csv\")                         # importing dataset with pandas"
      ],
      "metadata": {
        "id": "m0CZZLltKDWJ"
      },
      "execution_count": 2,
      "outputs": []
    },
    {
      "cell_type": "code",
      "source": [
        "df_train.info()                                              # more information about the dataset"
      ],
      "metadata": {
        "colab": {
          "base_uri": "https://localhost:8080/"
        },
        "id": "4yzyfX0uKLMh",
        "outputId": "a666b1ec-3a2e-4688-cfe4-6f9f5f84d723"
      },
      "execution_count": 3,
      "outputs": [
        {
          "output_type": "stream",
          "name": "stdout",
          "text": [
            "<class 'pandas.core.frame.DataFrame'>\n",
            "RangeIndex: 7195 entries, 0 to 7194\n",
            "Data columns (total 26 columns):\n",
            " #   Column    Non-Null Count  Dtype  \n",
            "---  ------    --------------  -----  \n",
            " 0   MFCCs_ 1  7195 non-null   float64\n",
            " 1   MFCCs_ 2  7195 non-null   float64\n",
            " 2   MFCCs_ 3  7195 non-null   float64\n",
            " 3   MFCCs_ 4  7195 non-null   float64\n",
            " 4   MFCCs_ 5  7195 non-null   float64\n",
            " 5   MFCCs_ 6  7195 non-null   float64\n",
            " 6   MFCCs_ 7  7195 non-null   float64\n",
            " 7   MFCCs_ 8  7195 non-null   float64\n",
            " 8   MFCCs_ 9  7195 non-null   float64\n",
            " 9   MFCCs_10  7195 non-null   float64\n",
            " 10  MFCCs_11  7195 non-null   float64\n",
            " 11  MFCCs_12  7195 non-null   float64\n",
            " 12  MFCCs_13  7195 non-null   float64\n",
            " 13  MFCCs_14  7195 non-null   float64\n",
            " 14  MFCCs_15  7195 non-null   float64\n",
            " 15  MFCCs_16  7195 non-null   float64\n",
            " 16  MFCCs_17  7195 non-null   float64\n",
            " 17  MFCCs_18  7195 non-null   float64\n",
            " 18  MFCCs_19  7195 non-null   float64\n",
            " 19  MFCCs_20  7195 non-null   float64\n",
            " 20  MFCCs_21  7195 non-null   float64\n",
            " 21  MFCCs_22  7195 non-null   float64\n",
            " 22  Family    7195 non-null   object \n",
            " 23  Genus     7195 non-null   object \n",
            " 24  Species   7195 non-null   object \n",
            " 25  RecordID  7195 non-null   int64  \n",
            "dtypes: float64(22), int64(1), object(3)\n",
            "memory usage: 1.4+ MB\n"
          ]
        }
      ]
    },
    {
      "cell_type": "markdown",
      "source": [
        "## Part one"
      ],
      "metadata": {
        "id": "6OGbdYCl27KW"
      }
    },
    {
      "cell_type": "code",
      "source": [
        "train, test = train_test_split(df_train, test_size=0.3)"
      ],
      "metadata": {
        "id": "CpWb3jg92SxU"
      },
      "execution_count": null,
      "outputs": []
    },
    {
      "cell_type": "code",
      "source": [
        "y_train = train[\"Family\"]\n",
        "train = train.loc[:, train.columns != 'Family']\n",
        "train = train.loc[:, train.columns != 'Genus']\n",
        "train = train.loc[:, train.columns != 'Species']\n",
        "x_train = train.loc[:, train.columns != 'RecordID']\n",
        "\n",
        "y_test = test[\"Family\"]\n",
        "test = test.loc[:, test.columns != 'Family']\n",
        "test = test.loc[:, test.columns != 'Genus']\n",
        "test = test.loc[:, test.columns != 'Species']\n",
        "x_test = test.loc[:, test.columns != 'RecordID']\n"
      ],
      "metadata": {
        "id": "-xCeo0Q92hOr"
      },
      "execution_count": null,
      "outputs": []
    },
    {
      "cell_type": "code",
      "source": [
        "scaler = StandardScaler()\n",
        "\n",
        "x_train = scaler.fit_transform(x_train)\n",
        "x_test = scaler.transform(x_test)"
      ],
      "metadata": {
        "id": "Z-0b_P1N3xUa"
      },
      "execution_count": null,
      "outputs": []
    },
    {
      "cell_type": "code",
      "source": [
        "lsvc = SVC(C=1,random_state=42,kernel=\"linear\")\n",
        "lsvc.fit(x_train,y_train)\n",
        "score = lsvc.score(x_train,y_train)\n",
        "print(\"score: \",score)"
      ],
      "metadata": {
        "colab": {
          "base_uri": "https://localhost:8080/"
        },
        "id": "kCU8r_iZ43nt",
        "outputId": "85bcbd40-f0ff-4832-80f4-a187166c4721"
      },
      "execution_count": null,
      "outputs": [
        {
          "output_type": "stream",
          "name": "stdout",
          "text": [
            "score:  0.9539316918189039\n"
          ]
        }
      ]
    },
    {
      "cell_type": "code",
      "source": [
        "y_pred_test = lsvc.predict(x_test)\n",
        "y_pred_train = lsvc.predict(x_train)\n",
        "\n",
        "print(\"Test accuracy score: {0:0.4f}\".format(accuracy_score(y_test,y_pred_test)))\n",
        "print(\"Train accuracy score: {0:0.4f}\".format(accuracy_score(y_train,y_pred_train)))\n",
        "print(\"number of support vectors: {}\".format(lsvc._n_support))"
      ],
      "metadata": {
        "colab": {
          "base_uri": "https://localhost:8080/"
        },
        "id": "b_FKzmxV59yP",
        "outputId": "3a4f1c5b-26ab-42b6-dbbe-a68229a07acd"
      },
      "execution_count": null,
      "outputs": [
        {
          "output_type": "stream",
          "name": "stdout",
          "text": [
            "Test accuracy score: 0.9551\n",
            "Train accuracy score: 0.9539\n",
            "number of support vectors: [ 28  92 327 297]\n"
          ]
        }
      ]
    },
    {
      "cell_type": "code",
      "source": [
        "cm = confusion_matrix(y_test,y_pred_test)\n",
        "cm_matrix = pd.DataFrame(data=cm)\n",
        "sns.heatmap(cm_matrix,annot=True,fmt=\"d\")"
      ],
      "metadata": {
        "colab": {
          "base_uri": "https://localhost:8080/",
          "height": 282
        },
        "id": "zcyq6aCi7atT",
        "outputId": "ca0c534b-5d73-4aba-8fc6-4cf7c38109e5"
      },
      "execution_count": null,
      "outputs": [
        {
          "output_type": "execute_result",
          "data": {
            "text/plain": [
              "<matplotlib.axes._subplots.AxesSubplot at 0x7f2885054520>"
            ]
          },
          "metadata": {},
          "execution_count": 73
        },
        {
          "output_type": "display_data",
          "data": {
            "text/plain": [
              "<Figure size 432x288 with 2 Axes>"
            ],
            "image/png": "[encoded data removed]"
          },
          "metadata": {
            "needs_background": "light"
          }
        }
      ]
    },
    {
      "cell_type": "markdown",
      "source": [
        "## Part Two"
      ],
      "metadata": {
        "id": "lINSsyTy8D4H"
      }
    },
    {
      "cell_type": "code",
      "source": [
        "train1, test = train_test_split(df_train, test_size=0.15)\n",
        "train, valid = train_test_split(train1, test_size=0.15)"
      ],
      "metadata": {
        "id": "YmMccuRS8DmL"
      },
      "execution_count": 4,
      "outputs": []
    },
    {
      "cell_type": "code",
      "source": [
        "y_train = train[\"Family\"]\n",
        "train = train.loc[:, train.columns != 'Family']\n",
        "train = train.loc[:, train.columns != 'Genus']\n",
        "train = train.loc[:, train.columns != 'Species']\n",
        "x_train = train.loc[:, train.columns != 'RecordID']\n",
        "\n",
        "y_test = test[\"Family\"]\n",
        "test = test.loc[:, test.columns != 'Family']\n",
        "test = test.loc[:, test.columns != 'Genus']\n",
        "test = test.loc[:, test.columns != 'Species']\n",
        "x_test = test.loc[:, test.columns != 'RecordID']\n",
        "\n",
        "y_valid = valid[\"Family\"]\n",
        "valid = valid.loc[:, valid.columns != 'Family']\n",
        "valid = valid.loc[:, valid.columns != 'Genus']\n",
        "valid = valid.loc[:, valid.columns != 'Species']\n",
        "x_valid = valid.loc[:, valid.columns != 'RecordID']\n"
      ],
      "metadata": {
        "id": "4s1C3Ht98bY2"
      },
      "execution_count": 5,
      "outputs": []
    },
    {
      "cell_type": "code",
      "source": [
        "scaler = StandardScaler()\n",
        "\n",
        "x_train = scaler.fit_transform(x_train)\n",
        "x_valid = scaler.transform(x_valid)\n",
        "x_test = scaler.transform(x_test)"
      ],
      "metadata": {
        "id": "J-htx8JI8upV"
      },
      "execution_count": 6,
      "outputs": []
    },
    {
      "cell_type": "code",
      "source": [
        "scores = []\n",
        "max = 0\n",
        "c_best = 1\n",
        "ran = range(1,100)\n",
        "for i in ran:\n",
        "  rsvc = SVC(C=i,random_state=42,kernel=\"rbf\")\n",
        "  rsvc.fit(x_train,y_train)\n",
        "  score = rsvc.score(x_valid,y_valid)\n",
        "  scores.append(score)\n",
        "  if score>max :\n",
        "    max = score\n",
        "    c_best = i\n",
        "print(\"max_accuracy: \",max)\n",
        "print(\"best_C: \",c_best)"
      ],
      "metadata": {
        "colab": {
          "base_uri": "https://localhost:8080/"
        },
        "id": "5uEfQ6WB88Mv",
        "outputId": "372daf0d-ed55-4b9b-8af8-b0ba5bf7dbf6"
      },
      "execution_count": 7,
      "outputs": [
        {
          "output_type": "stream",
          "name": "stdout",
          "text": [
            "max_accuracy:  0.9978213507625272\n",
            "best_C:  8\n"
          ]
        }
      ]
    },
    {
      "cell_type": "code",
      "source": [
        "plt.plot(ran,scores)\n",
        "plt.xlabel('C')\n",
        "plt.ylabel('valid accuracy')\n",
        "plt.show"
      ],
      "metadata": {
        "colab": {
          "base_uri": "https://localhost:8080/",
          "height": 297
        },
        "id": "KuUXSkQ_98yt",
        "outputId": "6cf2e9ec-8252-49cd-b52e-71c837e978ea"
      },
      "execution_count": 8,
      "outputs": [
        {
          "output_type": "execute_result",
          "data": {
            "text/plain": [
              "<function matplotlib.pyplot.show(*args, **kw)>"
            ]
          },
          "metadata": {},
          "execution_count": 8
        },
        {
          "output_type": "display_data",
          "data": {
            "text/plain": [
              "<Figure size 432x288 with 1 Axes>"
            ],
            "image/png": "[encoded data removed]"
          },
          "metadata": {
            "needs_background": "light"
          }
        }
      ]
    },
    {
      "cell_type": "code",
      "source": [
        "rsvc = SVC(C=c_best,random_state=42,kernel=\"rbf\")\n",
        "rsvc.fit(x_train,y_train)\n",
        "score_train = rsvc.score(x_train,y_train)\n",
        "score_test = rsvc.score(x_test,y_test)\n",
        "\n",
        "y_pred_test = rsvc.predict(x_test)\n",
        "y_pred_train = rsvc.predict(x_train)\n",
        "\n",
        "print(\"Test accuracy score: {0:0.4f}\".format(accuracy_score(y_test,y_pred_test)))\n",
        "print(\"Train accuracy score: {0:0.4f}\".format(accuracy_score(y_train,y_pred_train)))\n",
        "print(\"number of support vectors: {}\".format(rsvc._n_support))"
      ],
      "metadata": {
        "colab": {
          "base_uri": "https://localhost:8080/"
        },
        "id": "hgDN1HWi-i8i",
        "outputId": "16587027-3e21-47df-90e7-0752e9674568"
      },
      "execution_count": 9,
      "outputs": [
        {
          "output_type": "stream",
          "name": "stdout",
          "text": [
            "Test accuracy score: 0.9889\n",
            "Train accuracy score: 1.0000\n",
            "number of support vectors: [ 17  60 222 174]\n"
          ]
        }
      ]
    },
    {
      "cell_type": "code",
      "source": [
        "cm = confusion_matrix(y_test,y_pred_test)\n",
        "cm_matrix = pd.DataFrame(data=cm)\n",
        "sns.heatmap(cm_matrix,annot=True,fmt=\"d\")"
      ],
      "metadata": {
        "colab": {
          "base_uri": "https://localhost:8080/",
          "height": 282
        },
        "id": "qFf999ajHSoi",
        "outputId": "750f2df2-5f7b-4214-c16e-fc1efd235841"
      },
      "execution_count": 10,
      "outputs": [
        {
          "output_type": "execute_result",
          "data": {
            "text/plain": [
              "<matplotlib.axes._subplots.AxesSubplot at 0x7fd8a0578970>"
            ]
          },
          "metadata": {},
          "execution_count": 10
        },
        {
          "output_type": "display_data",
          "data": {
            "text/plain": [
              "<Figure size 432x288 with 2 Axes>"
            ],
            "image/png": "[encoded data removed]"
          },
          "metadata": {
            "needs_background": "light"
          }
        }
      ]
    },
    {
      "cell_type": "markdown",
      "source": [
        "## Part Three"
      ],
      "metadata": {
        "id": "RR03ipieBT1s"
      }
    },
    {
      "cell_type": "code",
      "source": [
        "rsvc = SVC(C=1,random_state=42,kernel=\"rbf\")\n",
        "rsvc.fit(x_train,y_train)\n",
        "score_rbf = rsvc.score(x_valid,y_valid)\n",
        "\n",
        "psvc = SVC(C=1,random_state=42,kernel=\"poly\")\n",
        "psvc.fit(x_train,y_train)\n",
        "score_poly = psvc.score(x_valid,y_valid)\n",
        "\n",
        "if score_rbf>score_poly:\n",
        "  best_kernel = \"rbf\"\n",
        "  max_accuracy = score_rbf\n",
        "else:\n",
        "  best_kernel = \"poly\"\n",
        "  max_accuracy = score_poly\n",
        "\n",
        "print(\"max_accuracy: \",max_accuracy)\n",
        "print(\"best_kernel: \",best_kernel)"
      ],
      "metadata": {
        "colab": {
          "base_uri": "https://localhost:8080/"
        },
        "outputId": "de349015-666e-458b-90fc-603aac23983c",
        "id": "8M3D1ZFJBT1z"
      },
      "execution_count": 11,
      "outputs": [
        {
          "output_type": "stream",
          "name": "stdout",
          "text": [
            "max_accuracy:  0.9923747276688453\n",
            "best_kernel:  rbf\n"
          ]
        }
      ]
    },
    {
      "cell_type": "code",
      "source": [
        "clf = SVC(C=1,random_state=42,kernel=best_kernel)\n",
        "clf.fit(x_train,y_train)\n",
        "score_train = clf.score(x_train,y_train)\n",
        "score_test = clf.score(x_test,y_test)\n",
        "\n",
        "y_pred_test = clf.predict(x_test)\n",
        "y_pred_train = clf.predict(x_train)\n",
        "\n",
        "print(\"Test accuracy score: {0:0.4f}\".format(accuracy_score(y_test,y_pred_test)))\n",
        "print(\"Train accuracy score: {0:0.4f}\".format(accuracy_score(y_train,y_pred_train)))\n",
        "print(\"number of support vectors: {}\".format(clf._n_support))"
      ],
      "metadata": {
        "colab": {
          "base_uri": "https://localhost:8080/"
        },
        "outputId": "3c9e166a-b514-4f80-b412-ae4a5d303630",
        "id": "oBTWWtfMBT11"
      },
      "execution_count": 12,
      "outputs": [
        {
          "output_type": "stream",
          "name": "stdout",
          "text": [
            "Test accuracy score: 0.9870\n",
            "Train accuracy score: 0.9950\n",
            "number of support vectors: [ 37  88 289 211]\n"
          ]
        }
      ]
    },
    {
      "cell_type": "code",
      "source": [
        "cm = confusion_matrix(y_test,y_pred_test)\n",
        "cm_matrix = pd.DataFrame(data=cm)\n",
        "sns.heatmap(cm_matrix,annot=True,fmt=\"d\")"
      ],
      "metadata": {
        "colab": {
          "base_uri": "https://localhost:8080/",
          "height": 282
        },
        "id": "-GKbWDFFHRUv",
        "outputId": "472d79b9-0a20-49a9-cc29-8576a2a068e4"
      },
      "execution_count": 13,
      "outputs": [
        {
          "output_type": "execute_result",
          "data": {
            "text/plain": [
              "<matplotlib.axes._subplots.AxesSubplot at 0x7fd89d80ef10>"
            ]
          },
          "metadata": {},
          "execution_count": 13
        },
        {
          "output_type": "display_data",
          "data": {
            "text/plain": [
              "<Figure size 432x288 with 2 Axes>"
            ],
            "image/png": "[encoded data removed]"
          },
          "metadata": {
            "needs_background": "light"
          }
        }
      ]
    },
    {
      "cell_type": "markdown",
      "source": [
        "## Part Four"
      ],
      "metadata": {
        "id": "UYQf_ye7Dcff"
      }
    },
    {
      "cell_type": "code",
      "source": [
        "scores = []\n",
        "max = 0\n",
        "c_best = 1\n",
        "ran = range(1,100)\n",
        "for i in ran:\n",
        "  model = SVC(C=i,random_state=42,kernel=best_kernel)\n",
        "  model.fit(x_train,y_train)\n",
        "  score = model.score(x_valid,y_valid)\n",
        "  scores.append(score)\n",
        "  if score>max :\n",
        "    max = score\n",
        "    c_best = i\n",
        "print(\"max_accuracy: \",max)\n",
        "print(\"best_C: \",c_best)"
      ],
      "metadata": {
        "colab": {
          "base_uri": "https://localhost:8080/"
        },
        "outputId": "1f78bad2-0289-4d36-bbdc-e0141487b513",
        "id": "d6EkhckgDcfj"
      },
      "execution_count": 14,
      "outputs": [
        {
          "output_type": "stream",
          "name": "stdout",
          "text": [
            "max_accuracy:  0.9978213507625272\n",
            "best_C:  8\n"
          ]
        }
      ]
    },
    {
      "cell_type": "code",
      "source": [
        "plt.plot(ran,scores)\n",
        "plt.xlabel('C')\n",
        "plt.ylabel('valid accuracy')\n",
        "plt.show"
      ],
      "metadata": {
        "colab": {
          "base_uri": "https://localhost:8080/",
          "height": 297
        },
        "outputId": "69a54585-138a-4fe6-ef13-2b082dcab424",
        "id": "z4hnNsEDDcfk"
      },
      "execution_count": 15,
      "outputs": [
        {
          "output_type": "execute_result",
          "data": {
            "text/plain": [
              "<function matplotlib.pyplot.show(*args, **kw)>"
            ]
          },
          "metadata": {},
          "execution_count": 15
        },
        {
          "output_type": "display_data",
          "data": {
            "text/plain": [
              "<Figure size 432x288 with 1 Axes>"
            ],
            "image/png": "[encoded data removed]"
          },
          "metadata": {
            "needs_background": "light"
          }
        }
      ]
    },
    {
      "cell_type": "code",
      "source": [
        "model = SVC(C=c_best,random_state=42,kernel=best_kernel)\n",
        "model.fit(x_train,y_train)\n",
        "score_train = model.score(x_train,y_train)\n",
        "score_test = model.score(x_test,y_test)\n",
        "\n",
        "y_pred_test = model.predict(x_test)\n",
        "y_pred_train = model.predict(x_train)\n",
        "\n",
        "print(\"Test accuracy score: {0:0.4f}\".format(accuracy_score(y_test,y_pred_test)))\n",
        "print(\"Train accuracy score: {0:0.4f}\".format(accuracy_score(y_train,y_pred_train)))\n",
        "print(\"number of support vectors: {}\".format(model._n_support))"
      ],
      "metadata": {
        "colab": {
          "base_uri": "https://localhost:8080/"
        },
        "outputId": "636f5689-f170-4010-f1bd-970f7038380f",
        "id": "5402EXl1Dcfl"
      },
      "execution_count": 16,
      "outputs": [
        {
          "output_type": "stream",
          "name": "stdout",
          "text": [
            "Test accuracy score: 0.9889\n",
            "Train accuracy score: 1.0000\n",
            "number of support vectors: [ 17  60 222 174]\n"
          ]
        }
      ]
    },
    {
      "cell_type": "code",
      "source": [
        "cm = confusion_matrix(y_test,y_pred_test)\n",
        "cm_matrix = pd.DataFrame(data=cm)\n",
        "sns.heatmap(cm_matrix,annot=True,fmt=\"d\")"
      ],
      "metadata": {
        "colab": {
          "base_uri": "https://localhost:8080/",
          "height": 282
        },
        "id": "dSEsRT5MHPOx",
        "outputId": "683c68b6-35fd-415b-de9c-96805d48c211"
      },
      "execution_count": 17,
      "outputs": [
        {
          "output_type": "execute_result",
          "data": {
            "text/plain": [
              "<matplotlib.axes._subplots.AxesSubplot at 0x7fd89d7ba100>"
            ]
          },
          "metadata": {},
          "execution_count": 17
        },
        {
          "output_type": "display_data",
          "data": {
            "text/plain": [
              "<Figure size 432x288 with 2 Axes>"
            ],
            "image/png": "[encoded data removed]"
          },
          "metadata": {
            "needs_background": "light"
          }
        }
      ]
    },
    {
      "cell_type": "markdown",
      "source": [
        "## Part Five"
      ],
      "metadata": {
        "id": "7zgff_9JEnhZ"
      }
    },
    {
      "cell_type": "code",
      "source": [
        "train, test = train_test_split(df_train, test_size=0.2)"
      ],
      "metadata": {
        "id": "pimWnNjGEnha"
      },
      "execution_count": 18,
      "outputs": []
    },
    {
      "cell_type": "code",
      "source": [
        "y_train = train[\"Family\"]\n",
        "train = train.loc[:, train.columns != 'Family']\n",
        "train = train.loc[:, train.columns != 'Genus']\n",
        "train = train.loc[:, train.columns != 'Species']\n",
        "x_train = train.loc[:, train.columns != 'RecordID']\n",
        "\n",
        "y_test = test[\"Family\"]\n",
        "test = test.loc[:, test.columns != 'Family']\n",
        "test = test.loc[:, test.columns != 'Genus']\n",
        "test = test.loc[:, test.columns != 'Species']\n",
        "x_test = test.loc[:, test.columns != 'RecordID']\n"
      ],
      "metadata": {
        "id": "PT_9bIN3Enhb"
      },
      "execution_count": 19,
      "outputs": []
    },
    {
      "cell_type": "code",
      "source": [
        "scaler = StandardScaler()\n",
        "\n",
        "x_train = scaler.fit_transform(x_train)\n",
        "x_test = scaler.transform(x_test)"
      ],
      "metadata": {
        "id": "xFtsm5weEnhc"
      },
      "execution_count": 20,
      "outputs": []
    },
    {
      "cell_type": "code",
      "source": [
        "scores = []\n",
        "max = 0\n",
        "c_best = 1\n",
        "ran = range(1,100)\n",
        "for i in ran:\n",
        "  model2 = SVC(C=i,random_state=42,kernel=best_kernel)\n",
        "  cv_scores = cross_val_score(model2,x_train,y_train,cv=4)\n",
        "  score = cv_scores.mean()\n",
        "  scores.append(score)\n",
        "  if score>max :\n",
        "    max = score\n",
        "    c_best = i\n",
        "print(\"max_accuracy: \",max)\n",
        "print(\"best_C: \",c_best)"
      ],
      "metadata": {
        "colab": {
          "base_uri": "https://localhost:8080/"
        },
        "id": "ZEkM-OJ0F7mt",
        "outputId": "90911d8b-6142-4f67-c9ae-3ee2abd6b4ba"
      },
      "execution_count": 21,
      "outputs": [
        {
          "output_type": "stream",
          "name": "stdout",
          "text": [
            "max_accuracy:  0.9923558026407228\n",
            "best_C:  17\n"
          ]
        }
      ]
    },
    {
      "cell_type": "code",
      "source": [
        "plt.plot(ran,scores)\n",
        "plt.xlabel('C')\n",
        "plt.ylabel('valid accuracy')\n",
        "plt.show"
      ],
      "metadata": {
        "colab": {
          "base_uri": "https://localhost:8080/",
          "height": 296
        },
        "id": "V1PciL3FG7-l",
        "outputId": "51d7d57c-f9db-4d11-df0d-5d976223e542"
      },
      "execution_count": 22,
      "outputs": [
        {
          "output_type": "execute_result",
          "data": {
            "text/plain": [
              "<function matplotlib.pyplot.show(*args, **kw)>"
            ]
          },
          "metadata": {},
          "execution_count": 22
        },
        {
          "output_type": "display_data",
          "data": {
            "text/plain": [
              "<Figure size 432x288 with 1 Axes>"
            ],
            "image/png": "[encoded data removed]"
          },
          "metadata": {
            "needs_background": "light"
          }
        }
      ]
    },
    {
      "cell_type": "code",
      "source": [
        "svm = SVC(C=c_best,random_state=42,kernel=best_kernel)\n",
        "svm.fit(x_train,y_train)\n",
        "score_train = svm.score(x_train,y_train)\n",
        "score_test = svm.score(x_test,y_test)\n",
        "\n",
        "y_pred_test = svm.predict(x_test)\n",
        "y_pred_train = svm.predict(x_train)\n",
        "\n",
        "print(\"Test accuracy score: {0:0.4f}\".format(accuracy_score(y_test,y_pred_test)))\n",
        "print(\"Train accuracy score: {0:0.4f}\".format(accuracy_score(y_train,y_pred_train)))\n",
        "print(\"number of support vectors: {}\".format(svm._n_support))"
      ],
      "metadata": {
        "colab": {
          "base_uri": "https://localhost:8080/"
        },
        "id": "r5GLWIElG_-C",
        "outputId": "4ef1f083-bcd2-4783-d5e1-988fe2ba6557"
      },
      "execution_count": 23,
      "outputs": [
        {
          "output_type": "stream",
          "name": "stdout",
          "text": [
            "Test accuracy score: 0.9889\n",
            "Train accuracy score: 1.0000\n",
            "number of support vectors: [ 18  57 232 172]\n"
          ]
        }
      ]
    },
    {
      "cell_type": "code",
      "source": [
        "cm = confusion_matrix(y_test,y_pred_test)\n",
        "cm_matrix = pd.DataFrame(data=cm)\n",
        "sns.heatmap(cm_matrix,annot=True,fmt=\"d\")"
      ],
      "metadata": {
        "colab": {
          "base_uri": "https://localhost:8080/",
          "height": 282
        },
        "outputId": "ca5f3b2c-485e-4475-ced4-f78e83a94a4b",
        "id": "8lPyLObPEnhe"
      },
      "execution_count": 24,
      "outputs": [
        {
          "output_type": "execute_result",
          "data": {
            "text/plain": [
              "<matplotlib.axes._subplots.AxesSubplot at 0x7fd89d6bf580>"
            ]
          },
          "metadata": {},
          "execution_count": 24
        },
        {
          "output_type": "display_data",
          "data": {
            "text/plain": [
              "<Figure size 432x288 with 2 Axes>"
            ],
            "image/png": "[encoded data removed]"
          },
          "metadata": {
            "needs_background": "light"
          }
        }
      ]
    },
    {
      "cell_type": "code",
      "source": [],
      "metadata": {
        "id": "JE3ESwnl5_DQ"
      },
      "execution_count": null,
      "outputs": []
    }
  ]
}